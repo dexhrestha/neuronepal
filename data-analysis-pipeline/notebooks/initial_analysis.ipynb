{
 "cells": [
  {
   "cell_type": "code",
   "execution_count": 1,
   "id": "96a74eb6",
   "metadata": {},
   "outputs": [],
   "source": [
    "import os,sys"
   ]
  },
  {
   "cell_type": "code",
   "execution_count": 2,
   "id": "81517693",
   "metadata": {},
   "outputs": [],
   "source": [
    "import pyedflib"
   ]
  },
  {
   "cell_type": "code",
   "execution_count": 3,
   "id": "43404f6b",
   "metadata": {},
   "outputs": [
    {
     "data": {
      "text/plain": [
       "['/opt/homebrew/Caskroom/miniconda/base/envs/myenv/lib/python310.zip',\n",
       " '/opt/homebrew/Caskroom/miniconda/base/envs/myenv/lib/python3.10',\n",
       " '/opt/homebrew/Caskroom/miniconda/base/envs/myenv/lib/python3.10/lib-dynload',\n",
       " '',\n",
       " '/opt/homebrew/Caskroom/miniconda/base/envs/myenv/lib/python3.10/site-packages']"
      ]
     },
     "execution_count": 3,
     "metadata": {},
     "output_type": "execute_result"
    }
   ],
   "source": [
    "sys.path"
   ]
  },
  {
   "cell_type": "code",
   "execution_count": 4,
   "id": "5e685af8",
   "metadata": {},
   "outputs": [],
   "source": [
    "base_path = '/Users/dexhrestha/Documents/Portfolio/neuronepal/neuronepal/eye-tracking-data'"
   ]
  },
  {
   "cell_type": "code",
   "execution_count": 8,
   "id": "18a07a6c",
   "metadata": {},
   "outputs": [],
   "source": [
    "data_path = os.path.join(base_path,'data')\n",
    "results_path = os.path.join(base_path,'results')"
   ]
  },
  {
   "cell_type": "code",
   "execution_count": 9,
   "id": "3e90dd90",
   "metadata": {},
   "outputs": [],
   "source": [
    "edf_name = 'cross_2025_05_28_12_23'\n",
    "edf_file = os.path.join(results_path,edf_name,edf_name+'.EDF')"
   ]
  },
  {
   "cell_type": "markdown",
   "id": "9abf5ec8",
   "metadata": {},
   "source": []
  },
  {
   "cell_type": "code",
   "execution_count": 10,
   "id": "01411f7a",
   "metadata": {},
   "outputs": [
    {
     "ename": "OSError",
     "evalue": "/Users/dexhrestha/Documents/Portfolio/neuronepal/neuronepal/eye-tracking-data/results/cross_2025_05_28_12_23/cross_2025_05_28_12_23.EDF: the file is not EDF(+) or BDF(+) compliant (it contains format errors)",
     "output_type": "error",
     "traceback": [
      "\u001b[0;31m---------------------------------------------------------------------------\u001b[0m",
      "\u001b[0;31mOSError\u001b[0m                                   Traceback (most recent call last)",
      "Cell \u001b[0;32mIn[10], line 1\u001b[0m\n\u001b[0;32m----> 1\u001b[0m edf \u001b[38;5;241m=\u001b[39m \u001b[43mpyedflib\u001b[49m\u001b[38;5;241;43m.\u001b[39;49m\u001b[43mEdfReader\u001b[49m\u001b[43m(\u001b[49m\u001b[43medf_file\u001b[49m\u001b[43m)\u001b[49m\n",
      "File \u001b[0;32mpyedflib/_extensions/_pyedflib.pyx:147\u001b[0m, in \u001b[0;36mpyedflib._extensions._pyedflib.CyEdfReader.__init__\u001b[0;34m()\u001b[0m\n",
      "File \u001b[0;32mpyedflib/_extensions/_pyedflib.pyx:210\u001b[0m, in \u001b[0;36mpyedflib._extensions._pyedflib.CyEdfReader.open\u001b[0;34m()\u001b[0m\n",
      "File \u001b[0;32mpyedflib/_extensions/_pyedflib.pyx:182\u001b[0m, in \u001b[0;36mpyedflib._extensions._pyedflib.CyEdfReader.check_open_ok\u001b[0;34m()\u001b[0m\n",
      "\u001b[0;31mOSError\u001b[0m: /Users/dexhrestha/Documents/Portfolio/neuronepal/neuronepal/eye-tracking-data/results/cross_2025_05_28_12_23/cross_2025_05_28_12_23.EDF: the file is not EDF(+) or BDF(+) compliant (it contains format errors)"
     ]
    }
   ],
   "source": [
    "edf = pyedflib.EdfReader(edf_file)"
   ]
  },
  {
   "cell_type": "code",
   "execution_count": null,
   "id": "bb5baead",
   "metadata": {},
   "outputs": [],
   "source": []
  }
 ],
 "metadata": {
  "kernelspec": {
   "display_name": "myenv",
   "language": "python",
   "name": "python3"
  },
  "language_info": {
   "codemirror_mode": {
    "name": "ipython",
    "version": 3
   },
   "file_extension": ".py",
   "mimetype": "text/x-python",
   "name": "python",
   "nbconvert_exporter": "python",
   "pygments_lexer": "ipython3",
   "version": "3.10.16"
  }
 },
 "nbformat": 4,
 "nbformat_minor": 5
}
