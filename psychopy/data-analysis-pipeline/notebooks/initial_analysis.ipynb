{
 "cells": [
  {
   "cell_type": "code",
   "execution_count": 2,
   "id": "96a74eb6",
   "metadata": {},
   "outputs": [],
   "source": [
    "import os,sys"
   ]
  },
  {
   "cell_type": "code",
   "execution_count": 3,
   "id": "43404f6b",
   "metadata": {},
   "outputs": [
    {
     "data": {
      "text/plain": [
       "['/opt/homebrew/Caskroom/miniconda/base/envs/myenv/lib/python310.zip',\n",
       " '/opt/homebrew/Caskroom/miniconda/base/envs/myenv/lib/python3.10',\n",
       " '/opt/homebrew/Caskroom/miniconda/base/envs/myenv/lib/python3.10/lib-dynload',\n",
       " '',\n",
       " '/opt/homebrew/Caskroom/miniconda/base/envs/myenv/lib/python3.10/site-packages']"
      ]
     },
     "execution_count": 3,
     "metadata": {},
     "output_type": "execute_result"
    }
   ],
   "source": [
    "sys.path"
   ]
  },
  {
   "cell_type": "code",
   "execution_count": 4,
   "id": "5e685af8",
   "metadata": {},
   "outputs": [],
   "source": [
    "sys.path.append('/Users/dexhrestha/Documents/Portfolio/neuronepal/neuronepal/psychopy/eye-tracking-data')"
   ]
  },
  {
   "cell_type": "code",
   "execution_count": null,
   "id": "18a07a6c",
   "metadata": {},
   "outputs": [],
   "source": []
  },
  {
   "cell_type": "markdown",
   "id": "9abf5ec8",
   "metadata": {},
   "source": []
  }
 ],
 "metadata": {
  "kernelspec": {
   "display_name": "myenv",
   "language": "python",
   "name": "python3"
  },
  "language_info": {
   "codemirror_mode": {
    "name": "ipython",
    "version": 3
   },
   "file_extension": ".py",
   "mimetype": "text/x-python",
   "name": "python",
   "nbconvert_exporter": "python",
   "pygments_lexer": "ipython3",
   "version": "3.10.16"
  }
 },
 "nbformat": 4,
 "nbformat_minor": 5
}
