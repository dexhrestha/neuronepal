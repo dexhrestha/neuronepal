{
 "cells": [
  {
   "cell_type": "code",
   "execution_count": 5,
   "id": "01228fca",
   "metadata": {},
   "outputs": [],
   "source": [
    "import numpy as np\n",
    "from scipy.integrate import quad\n"
   ]
  },
  {
   "cell_type": "code",
   "execution_count": null,
   "id": "394354af",
   "metadata": {},
   "outputs": [],
   "source": [
    "def ptmts(ts, tm, sigma):\n",
    "    '''\n",
    "    Computes the likelihood of observing a measurement `tm` given the true stimulus duration `ts`\n",
    "    and the standard deviation `sigma` of the measurement noise (assumed Gaussian).\n",
    "\n",
    "    Args:\n",
    "        ts (array-like): True durations of the stimulus.\n",
    "        tm (array-like): Measured durations of the stimulus.\n",
    "        sigma (float): Standard deviation of the likelihood\n",
    "\n",
    "    Returns:\n",
    "        np.ndarray: Likelihood values, as a NumPy array (column vector if inputs are column vectors).\n",
    "    '''\n",
    "    return np.exp((-(tm - ts)**2) / (2 * sigma**2)) / (np.sqrt(2 * np.pi) * sigma)\n"
   ]
  },
  {
   "cell_type": "code",
   "execution_count": 17,
   "id": "c23cfbdf",
   "metadata": {},
   "outputs": [],
   "source": [
    "f = lambda x : np.sin(x)\n",
    "result, error = quad(f,0,np.pi)"
   ]
  },
  {
   "cell_type": "code",
   "execution_count": 18,
   "id": "15ac5dcd",
   "metadata": {},
   "outputs": [
    {
     "data": {
      "text/plain": [
       "2.220446049250313e-14"
      ]
     },
     "execution_count": 18,
     "metadata": {},
     "output_type": "execute_result"
    }
   ],
   "source": [
    "error"
   ]
  },
  {
   "cell_type": "code",
   "execution_count": null,
   "id": "64c08d3b",
   "metadata": {},
   "outputs": [],
   "source": [
    "\n",
    "def BLS_est(ts,tm,sigma):\n",
    "    '''\n",
    "    \n",
    "    Computes Bayesian Least Square estimates\n",
    "\n",
    "    Args:\n",
    "        ts (array-like): True durations of the stimulus.\n",
    "        tm (array-like): Measured durations of the stimulus.\n",
    "        sigma (float): Standard deviation of the likelihood\n",
    "\n",
    "    Returns:\n",
    "        np.ndarray:  te: (array-like): estimate of duration of stimulus\n",
    "    '''\n",
    "\n",
    "    return quad(lambda ts,tm,sigma:ts*ptmts(ts,tm,sigma),min(ts),max(ts))/quad(lambda ts,tm,sigma:ptmts(ts,tm,sigma),min(ts),max(ts))"
   ]
  },
  {
   "cell_type": "code",
   "execution_count": 21,
   "id": "c106fedb",
   "metadata": {},
   "outputs": [],
   "source": [
    "\n",
    "def inv_BLS_est(ts,tm0,te,sigma):\n",
    "    '''\n",
    "    Finds the tm that generates the te closest to the observed value.\n",
    "    It does so by empirically inverting the BLS function.\n",
    "\n",
    "    Args:\n",
    "        ts (np.ndarray): Column vector (N,) — true stimulus durations\n",
    "        tm0 (np.ndarray): Column vector (M,) — candidate measured durations\n",
    "        te (np.ndarray): Column vector (N,) — observed BLS estimates\n",
    "        sigma (float): Standard deviation of likelihood\n",
    "\n",
    "    Returns:\n",
    "        np.ndarray: Column vector (N,) of tm values estimated to generate each te\n",
    "    '''\n",
    "    te_hat_matrix = BLS_est(ts, tm0, sigma)  # shape (N, M)\n",
    "\n",
    "    error_matrix = np.abs(te_hat_matrix - te[:, np.newaxis])  # shape (N, M)\n",
    "\n",
    "    best_indices = np.argmin(error_matrix, axis=1)  # shape (N,)\n",
    "\n",
    "    tm_est = tm0[best_indices]  # shape (N,)\n",
    "\n",
    "    return  tm_est.reshape(-1, 1) # column vector\n"
   ]
  },
  {
   "cell_type": "code",
   "execution_count": 22,
   "id": "f2f7325e",
   "metadata": {},
   "outputs": [],
   "source": [
    "def NeglogLike(ts,tm0,te,sigma):\n",
    "    '''\n",
    "    Compute negative log likelihood\n",
    "\n",
    "    Args:\n",
    "    ts (np.ndarray): Column vector (N,) — true stimulus durations\n",
    "    tm0 (np.ndarray): Column vector (M,) — candidate measured durations\n",
    "    te (np.ndarray): Column vector (N,) — observed BLS estimates\n",
    "    sigma (float): Standard deviation of likelihood\n",
    "\n",
    "    Returns:\n",
    "    Negative Log Likelihood : scalar , float\n",
    "    '''\n",
    "\n",
    "    tm = inv_BLS_est(ts, tm0, te, sigma)\n",
    "    p = ptmts(ts,tm,sigma)\n",
    "    return -np.sum(np.log(p))"
   ]
  },
  {
   "cell_type": "code",
   "execution_count": null,
   "id": "a463e8e9",
   "metadata": {},
   "outputs": [],
   "source": []
  }
 ],
 "metadata": {
  "kernelspec": {
   "display_name": "myenv",
   "language": "python",
   "name": "python3"
  },
  "language_info": {
   "codemirror_mode": {
    "name": "ipython",
    "version": 3
   },
   "file_extension": ".py",
   "mimetype": "text/x-python",
   "name": "python",
   "nbconvert_exporter": "python",
   "pygments_lexer": "ipython3",
   "version": "3.10.16"
  }
 },
 "nbformat": 4,
 "nbformat_minor": 5
}
